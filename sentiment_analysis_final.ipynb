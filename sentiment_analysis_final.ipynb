{
 "cells": [
  {
   "cell_type": "markdown",
   "id": "009b7e9d",
   "metadata": {},
   "source": [
    "# 📘 Twitter Sentiment Analysis\n",
    "Simulated analysis with enhanced visualization using Matplotlib + Seaborn."
   ]
  },
  {
   "cell_type": "code",
   "execution_count": null,
   "id": "55a73a91",
   "metadata": {},
   "outputs": [],
   "source": [
    "import pandas as pd\n",
    "import seaborn as sns\n",
    "import matplotlib.pyplot as plt"
   ]
  },
  {
   "cell_type": "code",
   "execution_count": null,
   "id": "2eb0e232",
   "metadata": {},
   "outputs": [],
   "source": [
    "# Load the cleaned tweets with sentiment labels\n",
    "df = pd.read_csv('../data/cleaned_tweets.csv')\n",
    "df.head()"
   ]
  },
  {
   "cell_type": "code",
   "execution_count": null,
   "id": "cce82215",
   "metadata": {},
   "outputs": [],
   "source": [
    "# Plot with enhanced style\n",
    "sns.set(style=\"whitegrid\")\n",
    "\n",
    "# Define color palette\n",
    "colors = {\"Positive\": \"#2ecc71\", \"Neutral\": \"#95a5a6\", \"Negative\": \"#e74c3c\"}\n",
    "\n",
    "plt.figure(figsize=(8, 5))\n",
    "sns.countplot(data=df, x='sentiment', order=['Positive', 'Neutral', 'Negative'],\n",
    "              palette=colors)\n",
    "\n",
    "# Add value labels on bars\n",
    "for index, value in enumerate(df['sentiment'].value_counts()[['Positive', 'Neutral', 'Negative']]):\n",
    "    plt.text(index, value + 1, str(value), ha='center', va='bottom', fontweight='bold')\n",
    "\n",
    "# Titles and styling\n",
    "plt.title(\"Tweet Sentiment Distribution\", fontsize=14, fontweight='bold')\n",
    "plt.xlabel(\"Sentiment\", fontsize=12)\n",
    "plt.ylabel(\"Number of Tweets\", fontsize=12)\n",
    "plt.xticks(fontsize=10)\n",
    "plt.yticks(fontsize=10)\n",
    "plt.tight_layout()\n",
    "plt.show()"
   ]
  }
 ],
 "metadata": {},
 "nbformat": 4,
 "nbformat_minor": 5
}
